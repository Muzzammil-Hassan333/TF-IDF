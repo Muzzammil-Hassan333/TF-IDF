{
 "cells": [
  {
   "cell_type": "code",
   "execution_count": 1,
   "id": "77b783b5",
   "metadata": {},
   "outputs": [],
   "source": [
    "import nltk"
   ]
  },
  {
   "cell_type": "code",
   "execution_count": 2,
   "id": "787c3487",
   "metadata": {},
   "outputs": [],
   "source": [
    "corpus=\"\"\"\n",
    "Jupyter Notebook (formerly IPython Notebook) is a web-based interactive computational environment \n",
    "for creating notebook documents. Jupyter Notebook is built using several open-source libraries, \n",
    "including IPython, ZeroMQ, Tornado, jQuery, Bootstrap, and MathJax. A Jupyter Notebook application \n",
    "is a browser-based REPL containing an ordered list of input/output cells which can contain code, \n",
    "text (using Github Flavored Markdown), mathematics, plots and rich media.\n",
    "\n",
    "Jupyter Notebook is similar to the notebook interface of other programs such as Maple, Mathematica, \n",
    "and SageMath, a computational interface style that originated with Mathematica in the 1980s. Jupyter \n",
    "interest overtook the popularity of the Mathematica notebook interface in early 2018.[15]\n",
    "\n",
    "JupyterLab is a newer user interface for Project Jupyter, offering a flexible user interface and more \n",
    "features than the classic notebook UI. The first stable release was announced on February 20, 2018.\n",
    "[17][18] In 2015, a joint $6 million grant from The Leona M. and Harry B. Helmsley Charitable Trust, \n",
    "The Gordon and Betty Moore Foundation, and The Alfred P. Sloan Foundation funded work that led to \n",
    "expanded capabilities of the core Jupyter tools, as well as to the creation of JupyterLab.[19]\n",
    "\n",
    "GitHub announced in November 2022 that JupyterLab would be available in its online Coding platform \n",
    "called Codespace.[20]\n",
    "\"\"\""
   ]
  },
  {
   "cell_type": "code",
   "execution_count": 3,
   "id": "01e6ec6b",
   "metadata": {},
   "outputs": [],
   "source": [
    "sentences=nltk.sent_tokenize(corpus)"
   ]
  },
  {
   "cell_type": "code",
   "execution_count": 4,
   "id": "9212e573",
   "metadata": {},
   "outputs": [
    {
     "data": {
      "text/plain": [
       "['\\nJupyter Notebook (formerly IPython Notebook) is a web-based interactive computational environment \\nfor creating notebook documents.',\n",
       " 'Jupyter Notebook is built using several open-source libraries, \\nincluding IPython, ZeroMQ, Tornado, jQuery, Bootstrap, and MathJax.',\n",
       " 'A Jupyter Notebook application \\nis a browser-based REPL containing an ordered list of input/output cells which can contain code, \\ntext (using Github Flavored Markdown), mathematics, plots and rich media.',\n",
       " 'Jupyter Notebook is similar to the notebook interface of other programs such as Maple, Mathematica, \\nand SageMath, a computational interface style that originated with Mathematica in the 1980s.',\n",
       " 'Jupyter \\ninterest overtook the popularity of the Mathematica notebook interface in early 2018.',\n",
       " '[15]\\n\\nJupyterLab is a newer user interface for Project Jupyter, offering a flexible user interface and more \\nfeatures than the classic notebook UI.',\n",
       " 'The first stable release was announced on February 20, 2018.',\n",
       " '[17][18] In 2015, a joint $6 million grant from The Leona M. and Harry B. Helmsley Charitable Trust, \\nThe Gordon and Betty Moore Foundation, and The Alfred P. Sloan Foundation funded work that led to \\nexpanded capabilities of the core Jupyter tools, as well as to the creation of JupyterLab.',\n",
       " '[19]\\n\\nGitHub announced in November 2022 that JupyterLab would be available in its online Coding platform \\ncalled Codespace.',\n",
       " '[20]']"
      ]
     },
     "execution_count": 4,
     "metadata": {},
     "output_type": "execute_result"
    }
   ],
   "source": [
    "sentences"
   ]
  },
  {
   "cell_type": "code",
   "execution_count": 5,
   "id": "89102275",
   "metadata": {},
   "outputs": [],
   "source": [
    "import re \n",
    "corpus=[]"
   ]
  },
  {
   "cell_type": "code",
   "execution_count": 6,
   "id": "2414dd14",
   "metadata": {},
   "outputs": [],
   "source": [
    "for i in range(len(sentences)):\n",
    "    review=re.sub('[^a-zA-Z]',' ',sentences[i])\n",
    "    review=review.lower()\n",
    "    corpus.append(review)"
   ]
  },
  {
   "cell_type": "code",
   "execution_count": 7,
   "id": "ee87ddd6",
   "metadata": {},
   "outputs": [
    {
     "data": {
      "text/plain": [
       "[' jupyter notebook  formerly ipython notebook  is a web based interactive computational environment  for creating notebook documents ',\n",
       " 'jupyter notebook is built using several open source libraries   including ipython  zeromq  tornado  jquery  bootstrap  and mathjax ',\n",
       " 'a jupyter notebook application  is a browser based repl containing an ordered list of input output cells which can contain code   text  using github flavored markdown   mathematics  plots and rich media ',\n",
       " 'jupyter notebook is similar to the notebook interface of other programs such as maple  mathematica   and sagemath  a computational interface style that originated with mathematica in the     s ',\n",
       " 'jupyter  interest overtook the popularity of the mathematica notebook interface in early      ',\n",
       " '      jupyterlab is a newer user interface for project jupyter  offering a flexible user interface and more  features than the classic notebook ui ',\n",
       " 'the first stable release was announced on february          ',\n",
       " '         in       a joint    million grant from the leona m  and harry b  helmsley charitable trust   the gordon and betty moore foundation  and the alfred p  sloan foundation funded work that led to  expanded capabilities of the core jupyter tools  as well as to the creation of jupyterlab ',\n",
       " '      github announced in november      that jupyterlab would be available in its online coding platform  called codespace ',\n",
       " '    ']"
      ]
     },
     "execution_count": 7,
     "metadata": {},
     "output_type": "execute_result"
    }
   ],
   "source": [
    "corpus"
   ]
  },
  {
   "cell_type": "code",
   "execution_count": 10,
   "id": "88f45167",
   "metadata": {},
   "outputs": [],
   "source": [
    "from nltk.stem import WordNetLemmatizer\n",
    "lemmatizer=WordNetLemmatizer()\n",
    "from nltk.corpus import stopwords"
   ]
  },
  {
   "cell_type": "code",
   "execution_count": 11,
   "id": "be3d15b4",
   "metadata": {},
   "outputs": [
    {
     "name": "stdout",
     "output_type": "stream",
     "text": [
      "jupyter\n",
      "notebook\n",
      "formerly\n",
      "ipython\n",
      "notebook\n",
      "web\n",
      "based\n",
      "interactive\n",
      "computational\n",
      "environment\n",
      "creating\n",
      "notebook\n",
      "document\n",
      "jupyter\n",
      "notebook\n",
      "built\n",
      "using\n",
      "several\n",
      "open\n",
      "source\n",
      "library\n",
      "including\n",
      "ipython\n",
      "zeromq\n",
      "tornado\n",
      "jquery\n",
      "bootstrap\n",
      "mathjax\n",
      "jupyter\n",
      "notebook\n",
      "application\n",
      "browser\n",
      "based\n",
      "repl\n",
      "containing\n",
      "ordered\n",
      "list\n",
      "input\n",
      "output\n",
      "cell\n",
      "contain\n",
      "code\n",
      "text\n",
      "using\n",
      "github\n",
      "flavored\n",
      "markdown\n",
      "mathematics\n",
      "plot\n",
      "rich\n",
      "medium\n",
      "jupyter\n",
      "notebook\n",
      "similar\n",
      "notebook\n",
      "interface\n",
      "program\n",
      "maple\n",
      "mathematica\n",
      "sagemath\n",
      "computational\n",
      "interface\n",
      "style\n",
      "originated\n",
      "mathematica\n",
      "jupyter\n",
      "interest\n",
      "overtook\n",
      "popularity\n",
      "mathematica\n",
      "notebook\n",
      "interface\n",
      "early\n",
      "jupyterlab\n",
      "newer\n",
      "user\n",
      "interface\n",
      "project\n",
      "jupyter\n",
      "offering\n",
      "flexible\n",
      "user\n",
      "interface\n",
      "feature\n",
      "classic\n",
      "notebook\n",
      "ui\n",
      "first\n",
      "stable\n",
      "release\n",
      "announced\n",
      "february\n",
      "joint\n",
      "million\n",
      "grant\n",
      "leona\n",
      "harry\n",
      "b\n",
      "helmsley\n",
      "charitable\n",
      "trust\n",
      "gordon\n",
      "betty\n",
      "moore\n",
      "foundation\n",
      "alfred\n",
      "p\n",
      "sloan\n",
      "foundation\n",
      "funded\n",
      "work\n",
      "led\n",
      "expanded\n",
      "capability\n",
      "core\n",
      "jupyter\n",
      "tool\n",
      "well\n",
      "creation\n",
      "jupyterlab\n",
      "github\n",
      "announced\n",
      "november\n",
      "jupyterlab\n",
      "would\n",
      "available\n",
      "online\n",
      "coding\n",
      "platform\n",
      "called\n",
      "codespace\n"
     ]
    }
   ],
   "source": [
    "for i in corpus:\n",
    "    words=nltk.word_tokenize(i)\n",
    "    for word in words:\n",
    "        if word not in set(stopwords.words('english')):\n",
    "            print(lemmatizer.lemmatize(word))"
   ]
  },
  {
   "cell_type": "code",
   "execution_count": 14,
   "id": "992cee8e",
   "metadata": {},
   "outputs": [],
   "source": [
    "corpus=[]\n",
    "for i in range(len(sentences)):\n",
    "    review=re.sub('[^a-zA-Z]',' ',sentences[i])\n",
    "    review=review.lower()\n",
    "    review=review.split()\n",
    "    review=[lemmatizer.lemmatize(word) for word in review if word not in set(stopwords.words('english'))]\n",
    "    review=' '.join(review)\n",
    "    corpus.append(review)"
   ]
  },
  {
   "cell_type": "code",
   "execution_count": 15,
   "id": "6e24e939",
   "metadata": {},
   "outputs": [
    {
     "data": {
      "text/plain": [
       "['jupyter notebook formerly ipython notebook web based interactive computational environment creating notebook document',\n",
       " 'jupyter notebook built using several open source library including ipython zeromq tornado jquery bootstrap mathjax',\n",
       " 'jupyter notebook application browser based repl containing ordered list input output cell contain code text using github flavored markdown mathematics plot rich medium',\n",
       " 'jupyter notebook similar notebook interface program maple mathematica sagemath computational interface style originated mathematica',\n",
       " 'jupyter interest overtook popularity mathematica notebook interface early',\n",
       " 'jupyterlab newer user interface project jupyter offering flexible user interface feature classic notebook ui',\n",
       " 'first stable release announced february',\n",
       " 'joint million grant leona harry b helmsley charitable trust gordon betty moore foundation alfred p sloan foundation funded work led expanded capability core jupyter tool well creation jupyterlab',\n",
       " 'github announced november jupyterlab would available online coding platform called codespace',\n",
       " '']"
      ]
     },
     "execution_count": 15,
     "metadata": {},
     "output_type": "execute_result"
    }
   ],
   "source": [
    "corpus"
   ]
  },
  {
   "cell_type": "code",
   "execution_count": 24,
   "id": "bb9f5c57",
   "metadata": {},
   "outputs": [
    {
     "data": {
      "text/plain": [
       "{'jupyter': 48,\n",
       " 'notebook': 63,\n",
       " 'formerly': 32,\n",
       " 'ipython': 45,\n",
       " 'web': 94,\n",
       " 'based': 4,\n",
       " 'interactive': 42,\n",
       " 'computational': 17,\n",
       " 'environment': 25,\n",
       " 'creating': 21,\n",
       " 'document': 23,\n",
       " 'built': 8,\n",
       " 'using': 93,\n",
       " 'several': 81,\n",
       " 'open': 67,\n",
       " 'source': 84,\n",
       " 'library': 52,\n",
       " 'including': 40,\n",
       " 'zeromq': 98,\n",
       " 'tornado': 89,\n",
       " 'jquery': 47,\n",
       " 'bootstrap': 6,\n",
       " 'mathjax': 58,\n",
       " 'application': 2,\n",
       " 'browser': 7,\n",
       " 'repl': 78,\n",
       " 'containing': 19,\n",
       " 'ordered': 68,\n",
       " 'list': 53,\n",
       " 'input': 41,\n",
       " 'output': 70,\n",
       " 'cell': 11,\n",
       " 'contain': 18,\n",
       " 'code': 14,\n",
       " 'text': 87,\n",
       " 'github': 35,\n",
       " 'flavored': 30,\n",
       " 'markdown': 55,\n",
       " 'mathematics': 57,\n",
       " 'plot': 73,\n",
       " 'rich': 79,\n",
       " 'medium': 59,\n",
       " 'similar': 82,\n",
       " 'interface': 44,\n",
       " 'program': 75,\n",
       " 'maple': 54,\n",
       " 'mathematica': 56,\n",
       " 'sagemath': 80,\n",
       " 'style': 86,\n",
       " 'originated': 69,\n",
       " 'interest': 43,\n",
       " 'overtook': 71,\n",
       " 'popularity': 74,\n",
       " 'early': 24,\n",
       " 'jupyterlab': 49,\n",
       " 'newer': 62,\n",
       " 'user': 92,\n",
       " 'project': 76,\n",
       " 'offering': 65,\n",
       " 'flexible': 31,\n",
       " 'feature': 27,\n",
       " 'classic': 13,\n",
       " 'ui': 91,\n",
       " 'first': 29,\n",
       " 'stable': 85,\n",
       " 'release': 77,\n",
       " 'announced': 1,\n",
       " 'february': 28,\n",
       " 'joint': 46,\n",
       " 'million': 60,\n",
       " 'grant': 37,\n",
       " 'leona': 51,\n",
       " 'harry': 38,\n",
       " 'helmsley': 39,\n",
       " 'charitable': 12,\n",
       " 'trust': 90,\n",
       " 'gordon': 36,\n",
       " 'betty': 5,\n",
       " 'moore': 61,\n",
       " 'foundation': 33,\n",
       " 'alfred': 0,\n",
       " 'sloan': 83,\n",
       " 'funded': 34,\n",
       " 'work': 96,\n",
       " 'led': 50,\n",
       " 'expanded': 26,\n",
       " 'capability': 10,\n",
       " 'core': 20,\n",
       " 'tool': 88,\n",
       " 'well': 95,\n",
       " 'creation': 22,\n",
       " 'november': 64,\n",
       " 'would': 97,\n",
       " 'available': 3,\n",
       " 'online': 66,\n",
       " 'coding': 16,\n",
       " 'platform': 72,\n",
       " 'called': 9,\n",
       " 'codespace': 15}"
      ]
     },
     "execution_count": 24,
     "metadata": {},
     "output_type": "execute_result"
    }
   ],
   "source": [
    "from sklearn.feature_extraction.text import TfidfVectorizer\n",
    "cv=TfidfVectorizer( binary=True)\n",
    "x=cv.fit_transform(corpus)\n",
    "cv.vocabulary_"
   ]
  },
  {
   "cell_type": "code",
   "execution_count": 25,
   "id": "1d8aa917",
   "metadata": {},
   "outputs": [
    {
     "data": {
      "text/plain": [
       "'jupyter notebook formerly ipython notebook web based interactive computational environment creating notebook document'"
      ]
     },
     "execution_count": 25,
     "metadata": {},
     "output_type": "execute_result"
    }
   ],
   "source": [
    "corpus[0]"
   ]
  },
  {
   "cell_type": "code",
   "execution_count": 26,
   "id": "3e6c0b1f",
   "metadata": {},
   "outputs": [
    {
     "data": {
      "text/plain": [
       "array([[0.        , 0.        , 0.        , 0.        , 0.28831126,\n",
       "        0.        , 0.        , 0.        , 0.        , 0.        ,\n",
       "        0.        , 0.        , 0.        , 0.        , 0.        ,\n",
       "        0.        , 0.        , 0.28831126, 0.        , 0.        ,\n",
       "        0.        , 0.33915327, 0.        , 0.33915327, 0.        ,\n",
       "        0.33915327, 0.        , 0.        , 0.        , 0.        ,\n",
       "        0.        , 0.        , 0.33915327, 0.        , 0.        ,\n",
       "        0.        , 0.        , 0.        , 0.        , 0.        ,\n",
       "        0.        , 0.        , 0.33915327, 0.        , 0.        ,\n",
       "        0.28831126, 0.        , 0.        , 0.1653233 , 0.        ,\n",
       "        0.        , 0.        , 0.        , 0.        , 0.        ,\n",
       "        0.        , 0.        , 0.        , 0.        , 0.        ,\n",
       "        0.        , 0.        , 0.        , 0.18206705, 0.        ,\n",
       "        0.        , 0.        , 0.        , 0.        , 0.        ,\n",
       "        0.        , 0.        , 0.        , 0.        , 0.        ,\n",
       "        0.        , 0.        , 0.        , 0.        , 0.        ,\n",
       "        0.        , 0.        , 0.        , 0.        , 0.        ,\n",
       "        0.        , 0.        , 0.        , 0.        , 0.        ,\n",
       "        0.        , 0.        , 0.        , 0.        , 0.33915327,\n",
       "        0.        , 0.        , 0.        , 0.        ]])"
      ]
     },
     "execution_count": 26,
     "metadata": {},
     "output_type": "execute_result"
    }
   ],
   "source": [
    "x[0].toarray()"
   ]
  },
  {
   "cell_type": "code",
   "execution_count": null,
   "id": "9b253588",
   "metadata": {},
   "outputs": [],
   "source": []
  }
 ],
 "metadata": {
  "kernelspec": {
   "display_name": "Python 3 (ipykernel)",
   "language": "python",
   "name": "python3"
  },
  "language_info": {
   "codemirror_mode": {
    "name": "ipython",
    "version": 3
   },
   "file_extension": ".py",
   "mimetype": "text/x-python",
   "name": "python",
   "nbconvert_exporter": "python",
   "pygments_lexer": "ipython3",
   "version": "3.11.5"
  }
 },
 "nbformat": 4,
 "nbformat_minor": 5
}
